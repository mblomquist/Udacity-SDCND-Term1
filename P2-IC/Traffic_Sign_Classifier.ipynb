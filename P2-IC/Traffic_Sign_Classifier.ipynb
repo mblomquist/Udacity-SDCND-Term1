{
 "cells": [
  {
   "cell_type": "markdown",
   "metadata": {},
   "source": [
    "# Self-Driving Car Engineer Nanodegree\n",
    "\n",
    "## Deep Learning\n",
    "\n",
    "## Project: Build a Traffic Sign Recognition Classifier\n",
    "\n",
    "In this notebook, a template is provided for you to implement your functionality in stages which is required to successfully complete this project. If additional code is required that cannot be included in the notebook, be sure that the Python code is successfully imported and included in your submission, if necessary. Sections that begin with **'Implementation'** in the header indicate where you should begin your implementation for your project. Note that some sections of implementation are optional, and will be marked with **'Optional'** in the header.\n",
    "\n",
    "In addition to implementing code, there will be questions that you must answer which relate to the project and your implementation. Each section where you will answer a question is preceded by a **'Question'** header. Carefully read each question and provide thorough answers in the following text boxes that begin with **'Answer:'**. Your project submission will be evaluated based on your answers to each of the questions and the implementation you provide.\n",
    "\n",
    ">**Note:** Code and Markdown cells can be executed using the **Shift + Enter** keyboard shortcut. In addition, Markdown cells can be edited by typically double-clicking the cell to enter edit mode."
   ]
  },
  {
   "cell_type": "markdown",
   "metadata": {},
   "source": [
    "---\n",
    "## Step 0: Load The Data"
   ]
  },
  {
   "cell_type": "code",
   "execution_count": 2,
   "metadata": {
    "collapsed": false,
    "scrolled": true
   },
   "outputs": [],
   "source": [
    "# Load pickled data\n",
    "import pickle\n",
    "\n",
    "# TODO: Fill this in based on where you saved the training and testing data\n",
    "\n",
    "training_file = 'data/train.p'\n",
    "testing_file = 'data/test.p'\n",
    "\n",
    "with open(training_file, mode='rb') as f:\n",
    "    train = pickle.load(f)\n",
    "with open(testing_file, mode='rb') as f:\n",
    "    test = pickle.load(f)\n",
    "    \n",
    "X_train, y_train = train['features'], train['labels']\n",
    "X_test, y_test = test['features'], test['labels']"
   ]
  },
  {
   "cell_type": "markdown",
   "metadata": {},
   "source": [
    "---\n",
    "\n",
    "## Step 1: Dataset Summary & Exploration\n",
    "\n",
    "The pickled data is a dictionary with 4 key/value pairs:\n",
    "\n",
    "- `'features'` is a 4D array containing raw pixel data of the traffic sign images, (num examples, width, height, channels).\n",
    "- `'labels'` is a 2D array containing the label/class id of the traffic sign. The file `signnames.csv` contains id -> name mappings for each id.\n",
    "- `'sizes'` is a list containing tuples, (width, height) representing the the original width and height the image.\n",
    "- `'coords'` is a list containing tuples, (x1, y1, x2, y2) representing coordinates of a bounding box around the sign in the image. **THESE COORDINATES ASSUME THE ORIGINAL IMAGE. THE PICKLED DATA CONTAINS RESIZED VERSIONS (32 by 32) OF THESE IMAGES**\n",
    "\n",
    "Complete the basic data summary below."
   ]
  },
  {
   "cell_type": "code",
   "execution_count": 3,
   "metadata": {
    "collapsed": false
   },
   "outputs": [
    {
     "name": "stdout",
     "output_type": "stream",
     "text": [
      "Number of training examples = 39209\n",
      "Number of testing examples = 12630\n",
      "Image data shape = [32, 32]\n",
      "Number of classes = 43\n"
     ]
    }
   ],
   "source": [
    "### Replace each question mark with the appropriate value.\n",
    "\n",
    "# TODO: Number of training examples\n",
    "n_train = 39209\n",
    "\n",
    "# TODO: Number of testing examples.\n",
    "n_test = 12630\n",
    "\n",
    "# TODO: What's the shape of an traffic sign image?\n",
    "image_shape = [32, 32]\n",
    "\n",
    "# TODO: How many unique classes/labels there are in the dataset.\n",
    "n_classes = 43\n",
    "\n",
    "print(\"Number of training examples =\", n_train)\n",
    "print(\"Number of testing examples =\", n_test)\n",
    "print(\"Image data shape =\", image_shape)\n",
    "print(\"Number of classes =\", n_classes)"
   ]
  },
  {
   "cell_type": "markdown",
   "metadata": {},
   "source": [
    "Visualize the German Traffic Signs Dataset using the pickled file(s). This is open ended, suggestions include: plotting traffic sign images, plotting the count of each sign, etc.\n",
    "\n",
    "The [Matplotlib](http://matplotlib.org/) [examples](http://matplotlib.org/examples/index.html) and [gallery](http://matplotlib.org/gallery.html) pages are a great resource for doing visualizations in Python.\n",
    "\n",
    "**NOTE:** It's recommended you start with something simple first. If you wish to do more, come back to it after you've completed the rest of the sections."
   ]
  },
  {
   "cell_type": "code",
   "execution_count": 4,
   "metadata": {
    "collapsed": false
   },
   "outputs": [
    {
     "name": "stdout",
     "output_type": "stream",
     "text": [
      "27\n"
     ]
    },
    {
     "data": {
      "image/png": "[encoded data removed]",
      "text/plain": [
       "<matplotlib.figure.Figure at 0x246f601e198>"
      ]
     },
     "metadata": {},
     "output_type": "display_data"
    }
   ],
   "source": [
    "### Data exploration visualization goes here.\n",
    "### Feel free to use as many code cells as needed.\n",
    "import matplotlib.pyplot as plt\n",
    "import random\n",
    "import numpy as np\n",
    "\n",
    "# Visualizations will be shown in the notebook.\n",
    "%matplotlib inline\n",
    "\n",
    "index = random.randint(0, len(X_train))\n",
    "image = X_train[index].squeeze()\n",
    "\n",
    "plt.figure(figsize=(1,1))\n",
    "plt.imshow(image)\n",
    "\n",
    "print(y_train[index])"
   ]
  },
  {
   "cell_type": "markdown",
   "metadata": {},
   "source": [
    "----\n",
    "\n",
    "## Step 2: Design and Test a Model Architecture\n",
    "\n",
    "Design and implement a deep learning model that learns to recognize traffic signs. Train and test your model on the [German Traffic Sign Dataset](http://benchmark.ini.rub.de/?section=gtsrb&subsection=dataset).\n",
    "\n",
    "There are various aspects to consider when thinking about this problem:\n",
    "\n",
    "- Neural network architecture\n",
    "- Play around preprocessing techniques (normalization, rgb to grayscale, etc)\n",
    "- Number of examples per label (some have more than others).\n",
    "- Generate fake data.\n",
    "\n",
    "Here is an example of a [published baseline model on this problem](http://yann.lecun.com/exdb/publis/pdf/sermanet-ijcnn-11.pdf). It's not required to be familiar with the approach used in the paper but, it's good practice to try to read papers like these.\n",
    "\n",
    "**NOTE:** The LeNet-5 implementation shown in the [classroom](https://classroom.udacity.com/nanodegrees/nd013/parts/fbf77062-5703-404e-b60c-95b78b2f3f9e/modules/6df7ae49-c61c-4bb2-a23e-6527e69209ec/lessons/601ae704-1035-4287-8b11-e2c2716217ad/concepts/d4aca031-508f-4e0b-b493-e7b706120f81) at the end of the CNN lesson is a solid starting point. You'll have to change the number of classes and possibly the preprocessing, but aside from that it's plug and play!"
   ]
  },
  {
   "cell_type": "markdown",
   "metadata": {},
   "source": [
    "### Implementation\n",
    "\n",
    "Use the code cell (or multiple code cells, if necessary) to implement the first step of your project. Once you have completed your implementation and are satisfied with the results, be sure to thoroughly answer the questions that follow."
   ]
  },
  {
   "cell_type": "code",
   "execution_count": 5,
   "metadata": {
    "collapsed": true
   },
   "outputs": [],
   "source": [
    "### Preprocess the data here.\n",
    "### Feel free to use as many code cells as needed."
   ]
  },
  {
   "cell_type": "markdown",
   "metadata": {},
   "source": [
    "# Step 3: Preprocess Data"
   ]
  },
  {
   "cell_type": "code",
   "execution_count": 6,
   "metadata": {
    "collapsed": true
   },
   "outputs": [],
   "source": [
    "from sklearn.utils import shuffle\n",
    "\n",
    "X_train, y_train = shuffle(X_train, y_train)"
   ]
  },
  {
   "cell_type": "markdown",
   "metadata": {},
   "source": [
    "# Step 4: Generate Fake Data"
   ]
  },
  {
   "cell_type": "code",
   "execution_count": 7,
   "metadata": {
    "collapsed": false
   },
   "outputs": [
    {
     "name": "stdout",
     "output_type": "stream",
     "text": [
      "Number of added samples: 0 out of: 7841\n",
      "Number of added samples: 250 out of: 7841\n",
      "Number of added samples: 500 out of: 7841\n",
      "Number of added samples: 750 out of: 7841\n",
      "Number of added samples: 1000 out of: 7841\n",
      "Number of added samples: 1250 out of: 7841\n",
      "Number of added samples: 1500 out of: 7841\n",
      "Number of added samples: 1750 out of: 7841\n",
      "Number of added samples: 2000 out of: 7841\n",
      "Number of added samples: 2250 out of: 7841\n",
      "Number of added samples: 2500 out of: 7841\n",
      "Number of added samples: 2750 out of: 7841\n",
      "Number of added samples: 3000 out of: 7841\n",
      "Number of added samples: 3250 out of: 7841\n",
      "Number of added samples: 3500 out of: 7841\n",
      "Number of added samples: 3750 out of: 7841\n",
      "Number of added samples: 4000 out of: 7841\n",
      "Number of added samples: 4250 out of: 7841\n",
      "Number of added samples: 4500 out of: 7841\n",
      "Number of added samples: 4750 out of: 7841\n",
      "Number of added samples: 5000 out of: 7841\n",
      "Number of added samples: 5250 out of: 7841\n",
      "Number of added samples: 5500 out of: 7841\n",
      "Number of added samples: 5750 out of: 7841\n",
      "Number of added samples: 6000 out of: 7841\n",
      "Number of added samples: 6250 out of: 7841\n",
      "Number of added samples: 6500 out of: 7841\n",
      "Number of added samples: 6750 out of: 7841\n",
      "Number of added samples: 7000 out of: 7841\n",
      "Number of added samples: 7250 out of: 7841\n",
      "Number of added samples: 7500 out of: 7841\n",
      "Number of added samples: 7750 out of: 7841\n",
      "Image creation done!\n"
     ]
    }
   ],
   "source": [
    "import cv2\n",
    "\n",
    "# Function from http://stackoverflow.com/questions/9041681/opencv-python-rotate-image-by-x-degrees-around-specific-point\n",
    "def rotateImage(image, angle):\n",
    "    center=tuple(np.array(image.shape[0:2])/2)\n",
    "    rot_mat = cv2.getRotationMatrix2D(center,angle,1.0)\n",
    "    return cv2.warpAffine(image, rot_mat, image.shape[0:2],flags=cv2.INTER_LINEAR)\n",
    "\n",
    "def transImage(image):\n",
    "    M = np.float32([[1,0,random.randint(-10,10)],[0,1,random.randint(-10,10)]])\n",
    "    return cv2.warpAffine(image,M,(32,32))\n",
    "    \n",
    "temp = len(X_train)*.20\n",
    "temp = int(temp)\n",
    "\n",
    "for i in range(temp):\n",
    "    if i % 2 == 0:\n",
    "        test_img = rotateImage(X_train[i],random.uniform(-10,10))\n",
    "    else:\n",
    "        test_img = transImage(X_train[1])\n",
    "                \n",
    "    test_img2 = np.reshape(test_img,(1,32,32,3))\n",
    "    \n",
    "    y_add = y_train[i]\n",
    "    y_add = np.reshape(y_add,(1,))\n",
    "    \n",
    "    X_train = np.concatenate((X_train,test_img2))\n",
    "    y_train = np.concatenate((y_train,y_add))\n",
    "    \n",
    "    if i % 250 == 0:\n",
    "        print('Number of added samples:',i,'out of:',temp)\n",
    "\n",
    "print('Image creation done!')\n",
    "\n",
    "X_train, y_train = shuffle(X_train, y_train)"
   ]
  },
  {
   "cell_type": "markdown",
   "metadata": {
    "collapsed": true
   },
   "source": [
    "# Step 5: Normalize Data"
   ]
  },
  {
   "cell_type": "code",
   "execution_count": 8,
   "metadata": {
    "collapsed": false
   },
   "outputs": [
    {
     "name": "stdout",
     "output_type": "stream",
     "text": [
      "Shape of X_train: (47050, 32, 32, 3)\n",
      "Shape of X_test: (12630, 32, 32, 3)\n"
     ]
    }
   ],
   "source": [
    "# Normalize the data features to the variable X_normalized\n",
    "def normalize_grayscale(image_data):\n",
    "    a = -0.5\n",
    "    b = 0.5\n",
    "    grayscale_min = 0\n",
    "    grayscale_max = 255\n",
    "    return a + ( ( (image_data - grayscale_min)*(b - a) )/( grayscale_max - grayscale_min ) )\n",
    "\n",
    "X_train = normalize_grayscale(X_train)\n",
    "X_test = normalize_grayscale(X_test)\n",
    "\n",
    "print('Shape of X_train:',X_train.shape)\n",
    "print('Shape of X_test:',X_test.shape)"
   ]
  },
  {
   "cell_type": "markdown",
   "metadata": {},
   "source": [
    "# Step 6: Create Validation Set\n",
    "\n",
    "Create a validation set from the training data using the train_test_split using the sklearn function."
   ]
  },
  {
   "cell_type": "code",
   "execution_count": 9,
   "metadata": {
    "collapsed": false
   },
   "outputs": [
    {
     "name": "stdout",
     "output_type": "stream",
     "text": [
      "X train set:  35287 vs. X_train_valid:  11763\n",
      "Y train set:  35287 vs. y_train_valid:  11763\n"
     ]
    }
   ],
   "source": [
    "from sklearn.model_selection import train_test_split\n",
    "\n",
    "X_train, X_train_valid, y_train, y_train_valid = train_test_split(X_train, y_train, test_size=.25)\n",
    "\n",
    "# Check Size of Split\n",
    "print('X train set: ', len(X_train), 'vs. X_train_valid: ', len(X_train_valid))\n",
    "print('Y train set: ', len(y_train), 'vs. y_train_valid: ', len(y_train_valid))"
   ]
  },
  {
   "cell_type": "markdown",
   "metadata": {},
   "source": [
    "# Step 7: Setup TensorFlow"
   ]
  },
  {
   "cell_type": "code",
   "execution_count": 10,
   "metadata": {
    "collapsed": true
   },
   "outputs": [],
   "source": [
    "import tensorflow as tf\n",
    "\n",
    "EPOCHS = 10\n",
    "BATCH_SIZE = 256"
   ]
  },
  {
   "cell_type": "markdown",
   "metadata": {},
   "source": [
    "# Step 8: LeNet Architecture"
   ]
  },
  {
   "cell_type": "code",
   "execution_count": 11,
   "metadata": {
    "collapsed": true
   },
   "outputs": [],
   "source": [
    "from tensorflow.contrib.layers import flatten\n",
    "\n",
    "def LeNet(x):    \n",
    "    # Hyperparameters\n",
    "    mu = 0\n",
    "    sigma = 0.01\n",
    "    epsilon = .001\n",
    "    \n",
    "    # Layer 0: Dropout - 20%\n",
    "    layer0_w = tf.Variable(tf.truncated_normal([1,1,3,3],mean=mu,stddev=sigma))\n",
    "    layer0_b = tf.Variable(tf.zeros(3))\n",
    "    \n",
    "    layer0 = tf.nn.conv2d(x,layer0_w,[1,1,1,1],padding='VALID')+layer0_b\n",
    "    \n",
    "    keep_prob = tf.constant(0.75)\n",
    "    \n",
    "    layer0 - tf.nn.dropout(layer0, keep_prob)\n",
    "    \n",
    "    # Layer 1: Convolutional. Input = 32x32x3. Output = 30x30x6\n",
    "    layer1_w = tf.Variable(tf.truncated_normal([3,3,3,6],mean=mu,stddev=sigma))\n",
    "    layer1_b = tf.Variable(tf.zeros(6))\n",
    "    \n",
    "    layer1 = tf.nn.conv2d(layer0,layer1_w,[1,1,1,1],padding='VALID')+layer1_b\n",
    "    \n",
    "    layer1_batch_mean, layer1_batch_var = tf.nn.moments(layer1,[0])\n",
    "    \n",
    "    layer1_scale = tf.Variable(tf.ones([30,6]))\n",
    "    layer1_beta = tf.Variable(tf.zeros([30,6]))\n",
    "    \n",
    "    layer1 = tf.nn.batch_normalization(layer1,layer1_batch_mean,layer1_batch_var,layer1_beta,layer1_scale,epsilon)\n",
    "    \n",
    "    layer1 = tf.nn.relu(layer1)\n",
    "\n",
    "    # Layer 2: Convolutional. Input = 30x30x6. Output = 28x28x12\n",
    "    layer2_w = tf.Variable(tf.truncated_normal([3,3,6,12],mean=mu,stddev=sigma))\n",
    "    layer2_b = tf.Variable(tf.zeros(12))\n",
    "    \n",
    "    layer2 = tf.nn.conv2d(layer1,layer2_w,[1,1,1,1],padding='VALID')+layer2_b\n",
    "    \n",
    "    layer2_batch_mean, layer2_batch_var = tf.nn.moments(layer2,[0])\n",
    "    \n",
    "    layer2_scale = tf.Variable(tf.ones([28,12]))\n",
    "    layer2_beta = tf.Variable(tf.zeros([28,12]))\n",
    "    \n",
    "    layer2 = tf.nn.batch_normalization(layer2,layer2_batch_mean,layer2_batch_var,layer2_beta,layer2_scale,epsilon)\n",
    "    \n",
    "    layer2 = tf.nn.relu(layer2)\n",
    "    \n",
    "    # Layer 2.5 Pooling. Input = 28x28x12. Output = 14x14x12.\n",
    "    layer2_5 = tf.nn.max_pool(layer2,ksize=[1,2,2,1],strides=[1,2,2,1],padding='VALID')\n",
    "    \n",
    "\n",
    "    # Layer 3: Convolutional. Input = 14x14x12. Output = 12x12x24\n",
    "    layer3_w = tf.Variable(tf.truncated_normal([3,3,12,24],mean=mu,stddev=sigma))\n",
    "    layer3_b = tf.Variable(tf.zeros(24))\n",
    "    \n",
    "    layer3 = tf.nn.conv2d(layer2_5,layer3_w,[1,1,1,1],padding='VALID')+layer3_b\n",
    "    \n",
    "    layer3_batch_mean, layer3_batch_var = tf.nn.moments(layer3,[0])\n",
    "    \n",
    "    layer3_scale = tf.Variable(tf.ones([12,24]))\n",
    "    layer3_beta = tf.Variable(tf.zeros([12,24]))\n",
    "    \n",
    "    layer3 = tf.nn.batch_normalization(layer3,layer3_batch_mean,layer3_batch_var,layer3_beta,layer3_scale,epsilon)\n",
    "    \n",
    "    layer3 = tf.nn.relu(layer3)\n",
    "    \n",
    "\n",
    "    # Layer 4: Convolutional. Input = 12x12x24. Output = 10x10x48\n",
    "    layer4_w = tf.Variable(tf.truncated_normal([3,3,24,48],mean=mu,stddev=sigma))\n",
    "    layer4_b = tf.Variable(tf.zeros(48))\n",
    "    \n",
    "    layer4 = tf.nn.conv2d(layer3,layer4_w,[1,1,1,1],padding='VALID')+layer4_b\n",
    "    \n",
    "    layer4_batch_mean, layer4_batch_var = tf.nn.moments(layer4,[0])\n",
    "    \n",
    "    layer4_scale = tf.Variable(tf.ones([10,48]))\n",
    "    layer4_beta = tf.Variable(tf.zeros([10,48]))\n",
    "    \n",
    "    layer4 = tf.nn.batch_normalization(layer4,layer4_batch_mean,layer4_batch_var,layer4_beta,layer4_scale,epsilon)\n",
    "    \n",
    "    layer4 = tf.nn.relu(layer4)\n",
    "    \n",
    "    # Layer 4.5 Pooling. Input = 10x10x48. Output = 5x5x48.\n",
    "    layer4_5 = tf.nn.max_pool(layer4,ksize=[1,2,2,1],strides=[1,2,2,1],padding='VALID')  \n",
    "\n",
    "    # Layer 5: Convolutional. Input = 5x5x48. Output = 3x3x96\n",
    "    layer5_w = tf.Variable(tf.truncated_normal([3,3,48,96],mean=mu,stddev=sigma))\n",
    "    layer5_b = tf.Variable(tf.zeros(96))\n",
    "    \n",
    "    layer5 = tf.nn.conv2d(layer4_5,layer5_w,[1,1,1,1],padding='VALID')+layer5_b\n",
    "    \n",
    "    layer5_batch_mean, layer5_batch_var = tf.nn.moments(layer5,[0])\n",
    "    \n",
    "    layer5_scale = tf.Variable(tf.ones([3,96]))\n",
    "    layer5_beta = tf.Variable(tf.zeros([3,96]))\n",
    "    \n",
    "    layer5 = tf.nn.batch_normalization(layer5,layer5_batch_mean,layer5_batch_var,layer5_beta,layer5_scale,epsilon)\n",
    "    \n",
    "    layer5 = tf.nn.relu(layer5)\n",
    "    \n",
    "    #Flatten. Input = 3x3x96. Output = 864.\n",
    "    layer5_flat = flatten(layer5)\n",
    "    \n",
    "    #Layer 6: Fully Connected. Input = 864. Output = 432.\n",
    "    layer6_w = tf.Variable(tf.truncated_normal(shape=(864,432),mean=mu,stddev=sigma))\n",
    "    layer6_b = tf.Variable(tf.zeros(432))\n",
    "    \n",
    "    layer6 = tf.matmul(layer5_flat,layer6_w)+layer6_b\n",
    "    \n",
    "    layer6_batch_mean, layer6_batch_var = tf.nn.moments(layer6,[0])\n",
    "    \n",
    "    layer6_scale = tf.Variable(tf.ones([432]))\n",
    "    layer6_beta = tf.Variable(tf.zeros([432]))\n",
    "    \n",
    "    layer6 = tf.nn.batch_normalization(layer6,layer6_batch_mean,layer6_batch_var,layer6_beta,layer6_scale,epsilon)\n",
    "    \n",
    "    layer6 = tf.nn.relu(layer6)\n",
    "    \n",
    "\n",
    "    #Layer 7: Fully Connected. Input = 432. Output = 216.\n",
    "    layer7_w = tf.Variable(tf.truncated_normal(shape=(432,216),mean=mu,stddev=sigma))\n",
    "    layer7_b = tf.Variable(tf.zeros(216))\n",
    "    \n",
    "    layer7 = tf.matmul(layer6,layer7_w)+layer7_b\n",
    "    \n",
    "    layer7_batch_mean, layer7_batch_var = tf.nn.moments(layer7,[0])\n",
    "    \n",
    "    layer7_scale = tf.Variable(tf.ones([216]))\n",
    "    layer7_beta = tf.Variable(tf.zeros([216]))\n",
    "    \n",
    "    layer7 = tf.nn.batch_normalization(layer7,layer7_batch_mean,layer7_batch_var,layer7_beta,layer7_scale,epsilon)\n",
    "    \n",
    "    layer7 = tf.nn.relu(layer7)\n",
    "    \n",
    "    #Layer 8: Fully Connected. Input = 216. Output = 108.\n",
    "    layer8_w = tf.Variable(tf.truncated_normal(shape=(216,108),mean=mu,stddev=sigma))\n",
    "    layer8_b = tf.Variable(tf.zeros(108))\n",
    "    \n",
    "    layer8 = tf.matmul(layer7,layer8_w)+layer8_b\n",
    "    \n",
    "    layer8_batch_mean, layer8_batch_var = tf.nn.moments(layer8,[0])\n",
    "    \n",
    "    layer8_scale = tf.Variable(tf.ones([108]))\n",
    "    layer8_beta = tf.Variable(tf.zeros([108]))\n",
    "    \n",
    "    layer8 = tf.nn.batch_normalization(layer8,layer8_batch_mean,layer8_batch_var,layer8_beta,layer8_scale,epsilon)\n",
    "    \n",
    "    #layer8 = tf.nn.relu(layer8)\n",
    "    \n",
    "    layer8 = tf.nn.dropout(layer8, tf.constant(0.75))\n",
    "\n",
    "    \n",
    "    #Layer 9: Fully Connected. Input = 108. Output = 43.\n",
    "    layer9_w = tf.Variable(tf.truncated_normal(shape=(108,43),mean=mu,stddev=sigma))\n",
    "    layer9_b = tf.Variable(tf.zeros(43))\n",
    "    \n",
    "    layer9 = tf.matmul(layer8,layer9_w)+layer9_b\n",
    "    \n",
    "    layer9_batch_mean, layer9_batch_var = tf.nn.moments(layer9,[0])\n",
    "    \n",
    "    layer9_scale = tf.Variable(tf.ones([43]))\n",
    "    layer9_beta = tf.Variable(tf.zeros([43]))\n",
    "    \n",
    "    layer9 = tf.nn.batch_normalization(layer9,layer9_batch_mean,layer9_batch_var,layer9_beta,layer9_scale,epsilon)\n",
    "    \n",
    "    logits = tf.nn.relu(layer9)\n",
    "    \n",
    "    return logits"
   ]
  },
  {
   "cell_type": "markdown",
   "metadata": {},
   "source": [
    "# Step 9: Set up TensorFlow Placeholders"
   ]
  },
  {
   "cell_type": "code",
   "execution_count": 12,
   "metadata": {
    "collapsed": false,
    "scrolled": true
   },
   "outputs": [],
   "source": [
    "x = tf.placeholder(tf.float32, (None, 32, 32, 3))\n",
    "y = tf.placeholder(tf.int32, (None))\n",
    "one_hot_y = tf.one_hot(y, 43)"
   ]
  },
  {
   "cell_type": "markdown",
   "metadata": {},
   "source": [
    "# Step 10: Create training pipeline"
   ]
  },
  {
   "cell_type": "code",
   "execution_count": 13,
   "metadata": {
    "collapsed": true
   },
   "outputs": [],
   "source": [
    "rate = 0.00075\n",
    "logits = LeNet(x)\n",
    "cross_entropy = tf.nn.softmax_cross_entropy_with_logits(logits, one_hot_y)\n",
    "loss_operation = tf.reduce_mean(cross_entropy)\n",
    "optimizer = tf.train.AdamOptimizer(learning_rate = rate, beta1 = 0.9, beta2 = 0.999, epsilon = .001)\n",
    "training_operation = optimizer.minimize(loss_operation)"
   ]
  },
  {
   "cell_type": "markdown",
   "metadata": {},
   "source": [
    "# Step 11: Create Evaluation Function"
   ]
  },
  {
   "cell_type": "code",
   "execution_count": 14,
   "metadata": {
    "collapsed": true
   },
   "outputs": [],
   "source": [
    "correct_prediction = tf.equal(tf.argmax(logits, 1), tf.argmax(one_hot_y, 1))\n",
    "accuracy_operation = tf.reduce_mean(tf.cast(correct_prediction, tf.float32))\n",
    "\n",
    "def evaluate(X_data, y_data):\n",
    "    num_examples = len(X_data)\n",
    "    total_accuracy = 0\n",
    "    sess = tf.get_default_session()\n",
    "    for offset in range(0, num_examples, BATCH_SIZE):\n",
    "        batch_x, batch_y = X_data[offset:offset+BATCH_SIZE], y_data[offset:offset+BATCH_SIZE]\n",
    "        accuracy = sess.run(accuracy_operation, feed_dict={x: batch_x, y: batch_y})\n",
    "        total_accuracy += (accuracy * len(batch_x))\n",
    "    return total_accuracy / num_examples"
   ]
  },
  {
   "cell_type": "markdown",
   "metadata": {},
   "source": [
    "# Step 12: Train the model"
   ]
  },
  {
   "cell_type": "code",
   "execution_count": 15,
   "metadata": {
    "collapsed": false
   },
   "outputs": [
    {
     "name": "stdout",
     "output_type": "stream",
     "text": [
      "Training...\n",
      "\n",
      "EPOCH 1 ...\n",
      "Validation Accuracy = 0.8961\n",
      "\n",
      "EPOCH 2 ...\n",
      "Validation Accuracy = 0.9095\n",
      "\n",
      "EPOCH 3 ...\n",
      "Validation Accuracy = 0.9101\n",
      "\n",
      "EPOCH 4 ...\n",
      "Validation Accuracy = 0.9129\n",
      "\n",
      "EPOCH 5 ...\n",
      "Validation Accuracy = 0.9125\n",
      "\n",
      "EPOCH 6 ...\n",
      "Validation Accuracy = 0.9137\n",
      "\n",
      "EPOCH 7 ...\n",
      "Validation Accuracy = 0.9144\n",
      "\n",
      "EPOCH 8 ...\n",
      "Validation Accuracy = 0.9140\n",
      "\n",
      "EPOCH 9 ...\n",
      "Validation Accuracy = 0.9154\n",
      "\n",
      "EPOCH 10 ...\n",
      "Validation Accuracy = 0.9137\n",
      "\n",
      "Model saved\n"
     ]
    }
   ],
   "source": [
    "with tf.Session() as sess:\n",
    "    sess.run(tf.global_variables_initializer())\n",
    "    num_examples = len(X_train)\n",
    "    \n",
    "    print(\"Training...\")\n",
    "    print()\n",
    "    for i in range(EPOCHS):\n",
    "        X_train, y_train = shuffle(X_train, y_train)\n",
    "        for offset in range(0, num_examples, BATCH_SIZE):\n",
    "            end = offset + BATCH_SIZE\n",
    "            batch_x, batch_y = X_train[offset:end], y_train[offset:end]\n",
    "            sess.run(training_operation, feed_dict={x: batch_x, y: batch_y})\n",
    "\n",
    "        validation_accuracy = evaluate(X_train_valid, y_train_valid)\n",
    "        print(\"EPOCH {} ...\".format(i+1))\n",
    "        print(\"Validation Accuracy = {:.4f}\".format(validation_accuracy))\n",
    "        print()\n",
    "        \n",
    "    try:\n",
    "        saver\n",
    "    except NameError:\n",
    "        saver = tf.train.Saver()\n",
    "    saver.save(sess, 'lenet_model/model')\n",
    "    print(\"Model saved\")"
   ]
  },
  {
   "cell_type": "markdown",
   "metadata": {},
   "source": [
    "# Step 13: Evaluate Model"
   ]
  },
  {
   "cell_type": "code",
   "execution_count": 16,
   "metadata": {
    "collapsed": false
   },
   "outputs": [
    {
     "name": "stdout",
     "output_type": "stream",
     "text": [
      "Test Accuracy = 0.961\n"
     ]
    }
   ],
   "source": [
    "with tf.Session() as sess:\n",
    "    loader = tf.train.import_meta_graph('lenet_model/model.meta')\n",
    "    loader.restore(sess, 'lenet_model/model')\n",
    "    test_accuracy = evaluate(X_test, y_test)\n",
    "    print(\"Test Accuracy = {:.3f}\".format(test_accuracy))"
   ]
  },
  {
   "cell_type": "markdown",
   "metadata": {},
   "source": [
    "### Question 1 \n",
    "\n",
    "_Describe how you preprocessed the data. Why did you choose that technique?_"
   ]
  },
  {
   "cell_type": "markdown",
   "metadata": {},
   "source": [
    "**Answer:**"
   ]
  },
  {
   "cell_type": "markdown",
   "metadata": {
    "collapsed": true
   },
   "source": [
    "For preprocessing, I used data shuffling and gray scale normalization. I chose to use data shuffling to develop a more robust model. I didn't want the order of the data to significantly impact the generation of the model. I also chose to implment gray scale normalization on the pixel data of each image to create a distribution about the orgin (zero). I chose to implement this technique to reduce the model's underfitting characteristics with the generation of fake data (next question). \n",
    "\n",
    "During tests, I noticed that the addition of the gray scale normalization didn't significantly impact the the underfit of the model. I believe this may be due to the use of batch normalization on many of the neural network layers as batch normalization seems to acomplish the same goal."
   ]
  },
  {
   "cell_type": "markdown",
   "metadata": {},
   "source": [
    "### Question 2\n",
    "\n",
    "_Describe how you set up the training, validation and testing data for your model. **Optional**: If you generated additional data, how did you generate the data? Why did you generate the data? What are the differences in the new dataset (with generated data) from the original dataset?_"
   ]
  },
  {
   "cell_type": "markdown",
   "metadata": {},
   "source": [
    "**Answer:**"
   ]
  },
  {
   "cell_type": "markdown",
   "metadata": {
    "collapsed": false
   },
   "source": [
    "I used the pickled training dataset to create an augmented dataset consisting of original images and transformed images. I created the transformed data by sampling 20% of the original dataset and applying a slight translation or slight rotation of those images. I then added the transformed images to the original dataset.\n",
    "\n",
    "I used the image transformations to reduce over-fitting in the neural network model. Without the augment images, there was approximately a 4% disparity between the training stage and the testing stage of the neural network. By augmenting the dataset, I was able to revserse the over-fitting and ended up improving the test accuracy of the model.\n",
    "\n",
    "I created the validation data for the model from the augmented dataset of training images. I used 25% of the total training set to create the valdiation dataset as this value tended to reduce under-fitting and yield the highest test accuracy."
   ]
  },
  {
   "cell_type": "markdown",
   "metadata": {},
   "source": [
    "### Question 3\n",
    "\n",
    "_What does your final architecture look like? (Type of model, layers, sizes, connectivity, etc.)  For reference on how to build a deep neural network using TensorFlow, see [Deep Neural Network in TensorFlow\n",
    "](https://classroom.udacity.com/nanodegrees/nd013/parts/fbf77062-5703-404e-b60c-95b78b2f3f9e/modules/6df7ae49-c61c-4bb2-a23e-6527e69209ec/lessons/b516a270-8600-4f93-a0a3-20dfeabe5da6/concepts/83a3a2a2-a9bd-4b7b-95b0-eb924ab14432) from the classroom._\n"
   ]
  },
  {
   "cell_type": "markdown",
   "metadata": {},
   "source": [
    "**Answer:**"
   ]
  },
  {
   "cell_type": "markdown",
   "metadata": {
    "collapsed": false
   },
   "source": [
    "The final architecture is a Convolotional Neural Network that consists of 10 layers and implements a mixture of batch normalization, dropout, and relu activation. \n",
    "\n",
    "Layer 1 has an input size of 32x32x3 to represent the 32 x 32 pixel size of the input image. The layer has a depth of 3 to represent the RGB value of the input image. The layer uses a convolution with a 1x1 filter and dropout activation in order to reduce over-fitting in the model. The implementation of dropout was able to make the model more flexible with hyperparameters and improved the overall accuracy during test cases. Layer 1's output is 30x30x6.\n",
    "\n",
    "Layer 2 has an input size of 30x30x6 to match the output of Layer 1. Layer 2 implements a convolution with a 3x3 filter which results in an output size of 28x28x12. After the convolution, a batch normalization is performed to normalize the data and a relu activation is used. \n",
    "\n",
    "Layer 2.5 feeds the output of Layer 2, size 28x28x12 into a 2x2 Max Pooling operation which results in an output size of 14x14x12. This is a subsampling layer.\n",
    "\n",
    "Layer 3 has an input size of 14x14x12 and follows a similar set of operations as Layer 1. A convolution is performed with a 3x3 filter and the data is subjected to a batch normalization process. The activation for Layer 3 is a relu operation and the Layer's output size is 12x12x24. \n",
    "\n",
    "Layer 4 has an input size of 12x12x24 and undergoes a the same set of operations as Layer 3. A convolution is performed with a 3x3 filter and the dadta is subjected to a batch normalization process. The activation used for Layer 4 is aslo a relu operation. This yields an output size of 10x10x48. Layer 4 uses a relu activation.\n",
    "\n",
    "Layer 4.5 subjects the Layer 4 output data, size 10x10x48, to a 2x2 Max Pooling operation to reduce possible overfitting. This subsampling layer results in a final output size of 5x5x48.\n",
    "\n",
    "Layer 5 has an input size of 5x5x48 and an output size of 3x3x96 after a convolution with a 3x3 filter, batch normalization, and a relu activation. Layer 5 is converted into a fully connected layer via a flatten process with an output size of 864.\n",
    "\n",
    "Layer 6 is a fully connected layer and has an input size of 864. Layer 6 is reduced by a matrix multiplication step to an output size of 432. A batch normalization process is then implemented on the data and a relu activation is used.\n",
    "\n",
    "Layer 7 is a fully connected layer and has an input size of 432. Layer 6 is reduced by a matrix multiplication step to an output size of 216. A batch normalization process is then implemented on the data and a relu activation is used.\n",
    "\n",
    "Layer 8 is a fully connected layer and has an input size of 216. Layer 6 is reduced by a matrix multiplication step to an output size of 108. A batch normalization process is then implemented on the data and a dropout activation is used. The dropout activation was implemented to reduce the model's tendency to underfit the data.\n",
    "\n",
    "Layer 9 is a fully connected layer and has an input size of 108. Layer 6 is reduced by a matrix multiplication step to an output size of 43. A batch normalization process is then implemented on the data and a relu activation is used. The output of Layer 9 is the output of the neural network.\n",
    "\n",
    "---------\n",
    "\n",
    "The use of batch normalization throughout the model was to normalize the data prior to using the activation functions. This implementation was originally introduced to offset the lack of preprocessing on the input data. However, after running tests with and without the preprocessing, batch normalization seems to have created a robust network and reduce under/over-fitting.\n",
    "\n",
    "Dropout activations were placed in Layers 1 and 8 to reduce under/over-fitting. The before/after cases have shown that the use of the dropout activations create a more robust network as these operations reduced the amount of under/overfitting."
   ]
  },
  {
   "cell_type": "markdown",
   "metadata": {},
   "source": [
    "### Question 4\n",
    "\n",
    "_How did you train your model? (Type of optimizer, batch size, epochs, hyperparameters, etc.)_\n"
   ]
  },
  {
   "cell_type": "markdown",
   "metadata": {},
   "source": [
    "**Answer:**"
   ]
  },
  {
   "cell_type": "markdown",
   "metadata": {},
   "source": [
    "I used the AdamOptimzer from TensorFlow as it provided the best results during my simple test cases. I chose beta1, beta2, and epsilon values based on the values chosen by Zeiler [ADADELTA: AN ADAPTIVE LEARNING RATE METHOD, ZEILER 2012]. \n",
    "\n",
    "I used a batch size of 256 as it tended to utilize the most resources without causing problems on my local machine. \n",
    "\n",
    "I used 10 epochs to train the model. The 10 epochs ended up provided a fairly steady value for most cases between 9 and 10. Also, additional epochs took significantly longer to perform. So, I adjusted hyperparameters to provide the highest accuracy in a reasonable amount of time.\n",
    "\n",
    "I used a mean of 0 for the model, but changed the standard deviation to 0.01. The reduced standard deviation provided a stepper increase in training accuracy between epochs 1 and 3, which allowed the model to yield higher accuracies during test cases.\n",
    "\n",
    "The learning rate was reduced to 0.00075 to provide a steeper curve in the improvements between EPOCHs. "
   ]
  },
  {
   "cell_type": "markdown",
   "metadata": {},
   "source": [
    "### Question 5\n",
    "\n",
    "\n",
    "_What approach did you take in coming up with a solution to this problem? It may have been a process of trial and error, in which case, outline the steps you took to get to the final solution and why you chose those steps. Perhaps your solution involved an already well known implementation or architecture. In this case, discuss why you think this is suitable for the current problem._"
   ]
  },
  {
   "cell_type": "markdown",
   "metadata": {},
   "source": [
    "**Answer:**"
   ]
  },
  {
   "cell_type": "markdown",
   "metadata": {},
   "source": [
    "I started tackling the problem by implementing the LeNet Architecture and modifying hyperparameters until I stopped seeing improvements. At that point, I was able to achieve approximately 90% accuracy on the test dataset. I did notice that this model has a significant amount over-fitting as my training accuracies were typically > 99%. \n",
    "\n",
    "My next step was to implement a data augmentation section to reduce over-fitting. However, once I created the augmented dataset I noticed that the overall model accuracy sharply dropped. I then spent some time looking at different, standard convolutional architectures in a variety of academic papers. I decided on creating an architecture similar to VGG for a smaller input image size and implement batch normalization.\n",
    "\n",
    "After re-creating the architecture, my model was able to achieve a test accuracy of 94%, but there was still a significant amount of over-fitting. I reintroduced the data augmentation and implemented two dropout activations to achieve > 95% accuracy for test cases. "
   ]
  },
  {
   "cell_type": "markdown",
   "metadata": {},
   "source": [
    "---\n",
    "\n",
    "## Step 14: Test a Model on New Images\n",
    "\n",
    "Take several pictures of traffic signs that you find on the web or around you (at least five), and run them through your classifier on your computer to produce example results. The classifier might not recognize some local signs but it could prove interesting nonetheless.\n",
    "\n",
    "You may find `signnames.csv` useful as it contains mappings from the class id (integer) to the actual sign name."
   ]
  },
  {
   "cell_type": "markdown",
   "metadata": {},
   "source": [
    "### Implementation\n",
    "\n",
    "Use the code cell (or multiple code cells, if necessary) to implement the first step of your project. Once you have completed your implementation and are satisfied with the results, be sure to thoroughly answer the questions that follow."
   ]
  },
  {
   "cell_type": "code",
   "execution_count": 17,
   "metadata": {
    "collapsed": false
   },
   "outputs": [
    {
     "name": "stdout",
     "output_type": "stream",
     "text": [
      "(5, 32, 32, 3)\n",
      "(5,)\n"
     ]
    },
    {
     "data": {
      "text/plain": [
       "<matplotlib.image.AxesImage at 0x2468f7dc588>"
      ]
     },
     "execution_count": 17,
     "metadata": {},
     "output_type": "execute_result"
    },
    {
     "data": {
      "image/png": "[encoded data removed]",
      "text/plain": [
       "<matplotlib.figure.Figure at 0x2468a44b908>"
      ]
     },
     "metadata": {},
     "output_type": "display_data"
    }
   ],
   "source": [
    "### Load Test Images\n",
    "\n",
    "p1 = cv2.imread('pics/p_1.png')\n",
    "p2 = cv2.imread('pics/p_2.png')\n",
    "p3 = cv2.imread('pics/p_3.png')\n",
    "p4 = cv2.imread('pics/p_4.png')\n",
    "p5 = cv2.imread('pics/p_5.png')\n",
    "\n",
    "b,g,r = cv2.split(p1)\n",
    "p1 = cv2.merge([r,g,b])\n",
    "\n",
    "b,g,r = cv2.split(p2)\n",
    "p2 = cv2.merge([r,g,b])\n",
    "\n",
    "b,g,r = cv2.split(p3)\n",
    "p3 = cv2.merge([r,g,b])\n",
    "\n",
    "b,g,r = cv2.split(p4)\n",
    "p4 = cv2.merge([r,g,b])\n",
    "\n",
    "b,g,r = cv2.split(p5)\n",
    "p5 = cv2.merge([r,g,b])\n",
    "\n",
    "p1 = np.asarray(p1)\n",
    "q1 = [14]\n",
    "p2 = np.asarray(p2)\n",
    "q2 = [1]\n",
    "p3 = np.asarray(p3)\n",
    "q3 = [2]\n",
    "p4 = np.asarray(p4)\n",
    "q4 = [40]\n",
    "p5 = np.asarray(p5)\n",
    "q5 = [8]\n",
    "\n",
    "p_test = np.stack([p1,p2,p3,p4,p5],axis=0)\n",
    "q_test = q1+q2+q3+q4+q5\n",
    "q_test = np.asarray(q_test)\n",
    "print(p_test.shape)\n",
    "print(q_test.shape)\n",
    "\n",
    "temp = p_test[3].squeeze()\n",
    "\n",
    "plt.figure(figsize=(1,1))\n",
    "plt.imshow(temp)"
   ]
  },
  {
   "cell_type": "markdown",
   "metadata": {},
   "source": [
    "# Normalize New Images"
   ]
  },
  {
   "cell_type": "code",
   "execution_count": 18,
   "metadata": {
    "collapsed": false
   },
   "outputs": [
    {
     "name": "stdout",
     "output_type": "stream",
     "text": [
      "(5, 32, 32, 3)\n"
     ]
    }
   ],
   "source": [
    "# Normalize the data features to the variable X_normalized\n",
    "p_test = normalize_grayscale(p_test)\n",
    "\n",
    "print(p_test.shape)"
   ]
  },
  {
   "cell_type": "markdown",
   "metadata": {},
   "source": [
    "# Test New Images with Model"
   ]
  },
  {
   "cell_type": "code",
   "execution_count": 19,
   "metadata": {
    "collapsed": false
   },
   "outputs": [
    {
     "name": "stdout",
     "output_type": "stream",
     "text": [
      "Test Accuracy = 0.600\n"
     ]
    }
   ],
   "source": [
    "with tf.Session() as sess:\n",
    "    loader = tf.train.import_meta_graph('lenet_model/model.meta')\n",
    "    loader.restore(sess, 'lenet_model/model')\n",
    "    test_accuracy = evaluate(p_test, q_test)\n",
    "    print(\"Test Accuracy = {:.3f}\".format(test_accuracy))"
   ]
  },
  {
   "cell_type": "markdown",
   "metadata": {},
   "source": [
    "### Question 6\n",
    "\n",
    "_Choose five candidate images of traffic signs and provide them in the report. Are there any particular qualities of the image(s) that might make classification difficult? It could be helpful to plot the images in the notebook._\n",
    "\n"
   ]
  },
  {
   "cell_type": "markdown",
   "metadata": {},
   "source": [
    "**Answer:**"
   ]
  },
  {
   "cell_type": "markdown",
   "metadata": {
    "collapsed": false
   },
   "source": [
    "The images used were found on the internet and have some background landscape in them. The signs are also slightly sheared as they are actual photos of the roads. In addition, all of the images were reduced to 32x32 pixels using MATLAB. This reduction caused large translations of the signs with resepect to the boarders of the image."
   ]
  },
  {
   "cell_type": "markdown",
   "metadata": {},
   "source": [
    "### Question 7\n",
    "\n",
    "_Is your model able to perform equally well on captured pictures when compared to testing on the dataset? The simplest way to do this check the accuracy of the predictions. For example, if the model predicted 1 out of 5 signs correctly, it's 20% accurate._\n",
    "\n",
    "_**NOTE:** You could check the accuracy manually by using `signnames.csv` (same directory). This file has a mapping from the class id (0-42) to the corresponding sign name. So, you could take the class id the model outputs, lookup the name in `signnames.csv` and see if it matches the sign from the image._\n"
   ]
  },
  {
   "cell_type": "markdown",
   "metadata": {},
   "source": [
    "**Answer:**"
   ]
  },
  {
   "cell_type": "markdown",
   "metadata": {},
   "source": [
    "The model does not perform as well on the new images as on the test data set. On the test data, the model has an accuracy of approximately 96%. On the new images, the model is only able to classify 3 of the 5 images (60%).\n",
    "\n",
    "The poor performance of the model on the new images can be due to how the images were created as well as the small sample of new images used. Only 5 new images were used to test the model. These images may have been more difficult for the model to accuractely classify as the sign may not be centered as well as in the test data set. A solution to this can be to generate more dramatic images in the \"Fake Data Generation\" section. The new image creation was detailed in the previous question/answer section. "
   ]
  },
  {
   "cell_type": "code",
   "execution_count": 20,
   "metadata": {
    "collapsed": false
   },
   "outputs": [
    {
     "name": "stdout",
     "output_type": "stream",
     "text": [
      "Values:\n",
      "[[ 0.23304178  0.127831    0.0972572 ]\n",
      " [ 0.29047236  0.08051208  0.06597093]\n",
      " [ 0.24688865  0.13496825  0.10235048]\n",
      " [ 0.20618612  0.15833923  0.06934798]\n",
      " [ 0.21244882  0.20830612  0.10963945]]\n",
      "\n",
      "Indicies:\n",
      "[[13 10 14]\n",
      " [ 1  5 16]\n",
      " [ 2 12  3]\n",
      " [38  9 25]\n",
      " [ 4  8  7]]\n"
     ]
    }
   ],
   "source": [
    "with tf.Session() as sess:\n",
    "    loader = tf.train.import_meta_graph('lenet_model/model.meta')\n",
    "    loader.restore(sess, 'lenet_model/model')\n",
    "    soft_max = tf.nn.softmax(logits)\n",
    "    [values,indicies] = sess.run(tf.nn.top_k(soft_max, k=3), feed_dict = {x: p_test})\n",
    "    print('Values:')\n",
    "    print(values)\n",
    "    print()\n",
    "    print('Indicies:')\n",
    "    print(indicies)"
   ]
  },
  {
   "cell_type": "markdown",
   "metadata": {},
   "source": [
    "### Question 8\n",
    "\n",
    "*Use the model's softmax probabilities to visualize the **certainty** of its predictions, [`tf.nn.top_k`](https://www.tensorflow.org/versions/r0.12/api_docs/python/nn.html#top_k) could prove helpful here. Which predictions is the model certain of? Uncertain? If the model was incorrect in its initial prediction, does the correct prediction appear in the top k? (k should be 5 at most)*\n",
    "\n",
    "`tf.nn.top_k` will return the values and indices (class ids) of the top k predictions. So if k=3, for each sign, it'll return the 3 largest probabilities (out of a possible 43) and the correspoding class ids.\n",
    "\n",
    "Take this numpy array as an example:\n",
    "\n",
    "```\n",
    "# (5, 6) array\n",
    "a = np.array([[ 0.24879643,  0.07032244,  0.12641572,  0.34763842,  0.07893497,\n",
    "         0.12789202],\n",
    "       [ 0.28086119,  0.27569815,  0.08594638,  0.0178669 ,  0.18063401,\n",
    "         0.15899337],\n",
    "       [ 0.26076848,  0.23664738,  0.08020603,  0.07001922,  0.1134371 ,\n",
    "         0.23892179],\n",
    "       [ 0.11943333,  0.29198961,  0.02605103,  0.26234032,  0.1351348 ,\n",
    "         0.16505091],\n",
    "       [ 0.09561176,  0.34396535,  0.0643941 ,  0.16240774,  0.24206137,\n",
    "         0.09155967]])\n",
    "```\n",
    "\n",
    "Running it through `sess.run(tf.nn.top_k(tf.constant(a), k=3))` produces:\n",
    "\n",
    "```\n",
    "TopKV2(values=array([[ 0.34763842,  0.24879643,  0.12789202],\n",
    "       [ 0.28086119,  0.27569815,  0.18063401],\n",
    "       [ 0.26076848,  0.23892179,  0.23664738],\n",
    "       [ 0.29198961,  0.26234032,  0.16505091],\n",
    "       [ 0.34396535,  0.24206137,  0.16240774]]), indices=array([[3, 0, 5],\n",
    "       [0, 1, 4],\n",
    "       [0, 5, 1],\n",
    "       [1, 3, 5],\n",
    "       [1, 4, 3]], dtype=int32))\n",
    "```\n",
    "\n",
    "Looking just at the first row we get `[ 0.34763842,  0.24879643,  0.12789202]`, you can confirm these are the 3 largest probabilities in `a`. You'll also notice `[3, 0, 5]` are the corresponding indices."
   ]
  },
  {
   "cell_type": "markdown",
   "metadata": {},
   "source": [
    "**Answer:**"
   ]
  },
  {
   "cell_type": "markdown",
   "metadata": {},
   "source": [
    "The softmax probabilities for the correct model predictions tended to have a distribution that valued the correct choices significantly higher than the incorrect choices. The softmax probabilities for incorrect choices tended to have a uniform probabilities amoung the three highest probability choices. "
   ]
  },
  {
   "cell_type": "code",
   "execution_count": 21,
   "metadata": {
    "collapsed": false
   },
   "outputs": [
    {
     "name": "stdout",
     "output_type": "stream",
     "text": [
      "Softmax Probabilities:\n"
     ]
    },
    {
     "data": {
      "image/png": "[encoded data removed]",
      "text/plain": [
       "<matplotlib.figure.Figure at 0x2468f8210b8>"
      ]
     },
     "metadata": {},
     "output_type": "display_data"
    }
   ],
   "source": [
    "x1 = np.arange(0,42,1)\n",
    "x2 = np.arange(0,42,1)\n",
    "x3 = np.arange(0,42,1)\n",
    "x4 = np.arange(0,42,1)\n",
    "x5 = np.arange(0,42,1)\n",
    "\n",
    "y1 = np.zeros(42)\n",
    "y2 = np.zeros(42)\n",
    "y3 = np.zeros(42)\n",
    "y4 = np.zeros(42)\n",
    "y5 = np.zeros(42)\n",
    "\n",
    "\n",
    "# Add Values\n",
    "y1[indicies[0,0]] = values[0,0] \n",
    "y1[indicies[0,1]] = values[0,1] \n",
    "y1[indicies[0,2]] = values[0,2] \n",
    "\n",
    "y2[indicies[1,0]] = values[1,0] \n",
    "y2[indicies[1,1]] = values[1,2] \n",
    "y2[indicies[1,2]] = values[1,2] \n",
    "\n",
    "y3[indicies[2,0]] = values[2,0] \n",
    "y3[indicies[2,1]] = values[2,1] \n",
    "y3[indicies[2,2]] = values[2,2] \n",
    "\n",
    "y4[indicies[3,0]] = values[3,0] \n",
    "y4[indicies[3,1]] = values[3,1] \n",
    "y4[indicies[3,2]] = values[3,2] \n",
    "\n",
    "y5[indicies[4,0]] = values[4,0] \n",
    "y5[indicies[4,1]] = values[4,1] \n",
    "y5[indicies[4,2]] = values[4,2] \n",
    "\n",
    "# Create Subplots\n",
    "\n",
    "print('Softmax Probabilities:')\n",
    "\n",
    "plt.figure(figsize=(10,5))\n",
    "\n",
    "plt.subplot(1,5,1)\n",
    "plt.plot(x1,y1)\n",
    "plt.ylabel('Probability')\n",
    "plt.axis((0,42,0,max(y1)*1.2))\n",
    "\n",
    "plt.subplot(1,5,2)\n",
    "plt.plot(x2,y2)\n",
    "plt.ylabel('Probability')\n",
    "plt.axis((0,42,0,max(y2)*1.2))\n",
    "\n",
    "plt.subplot(1,5,3)\n",
    "plt.plot(x3,y3)\n",
    "plt.ylabel('Probability')\n",
    "plt.axis((0,42,0,max(y3)*1.2))\n",
    "\n",
    "plt.subplot(1,5,4)\n",
    "plt.plot(x4,y4)\n",
    "plt.ylabel('Probability')\n",
    "plt.axis((0,42,0,max(y4)*1.2))\n",
    "\n",
    "plt.subplot(1,5,5)\n",
    "plt.plot(x5,y5)\n",
    "plt.ylabel('Probability')\n",
    "plt.axis((0,42,0,max(y5)*1.2))\n",
    "\n",
    "plt.show()"
   ]
  },
  {
   "cell_type": "markdown",
   "metadata": {},
   "source": [
    "> **Note**: Once you have completed all of the code implementations and successfully answered each question above, you may finalize your work by exporting the iPython Notebook as an HTML document. You can do this by using the menu above and navigating to  \\n\",\n",
    "    \"**File -> Download as -> HTML (.html)**. Include the finished document along with this notebook as your submission."
   ]
  }
 ],
 "metadata": {
  "anaconda-cloud": {},
  "kernelspec": {
   "display_name": "Python 3",
   "language": "python",
   "name": "python3"
  },
  "language_info": {
   "codemirror_mode": {
    "name": "ipython",
    "version": 3
   },
   "file_extension": ".py",
   "mimetype": "text/x-python",
   "name": "python",
   "nbconvert_exporter": "python",
   "pygments_lexer": "ipython3",
   "version": "3.5.2"
  },
  "widgets": {
   "state": {},
   "version": "1.1.2"
  }
 },
 "nbformat": 4,
 "nbformat_minor": 1
}
